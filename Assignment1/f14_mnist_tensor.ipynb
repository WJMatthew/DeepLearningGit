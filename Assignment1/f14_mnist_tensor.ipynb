{
 "cells": [
  {
   "cell_type": "markdown",
   "metadata": {},
   "source": [
    "# MNIST - Tensor\n",
    "## Matthew Johnson, Feb 13, 2019\n",
    "\n",
    "- MSE & RELU\n",
    "Acc: 0.84\n",
    "\n",
    "- Softmax improved results rapidly"
   ]
  },
  {
   "cell_type": "code",
   "execution_count": 6,
   "metadata": {},
   "outputs": [
    {
     "name": "stdout",
     "output_type": "stream",
     "text": [
      "images: torch.Size([64, 1, 28, 28])\n",
      "labels: torch.Size([64])\n"
     ]
    }
   ],
   "source": [
    "import os\n",
    "import torch\n",
    "import torchvision\n",
    "from torchvision import transforms\n",
    "\n",
    "root = './mnist'\n",
    "\n",
    "if not os.path.exists(root):\n",
    "    os.mkdir(root)\n",
    "    \n",
    "#########\n",
    "# DATA\n",
    "##########\n",
    "\n",
    "trans = transforms.Compose([transforms.ToTensor(), transforms.Normalize((0.5,), (1.0,))])\n",
    "\n",
    "# Training Data\n",
    "training_data = torchvision.datasets.MNIST(root=root,\n",
    "                                           train=True,\n",
    "                                           transform=trans,\n",
    "                                           download=True)\n",
    "# Testing Data\n",
    "testing_data = torchvision.datasets.MNIST(root=root,\n",
    "                                          train=False,\n",
    "                                          transform=trans,\n",
    "                                          download=True)\n",
    "\n",
    "# Data Loader\n",
    "batch_size = 64\n",
    "\n",
    "# Training data\n",
    "training_loader = torch.utils.data.DataLoader(dataset=training_data,\n",
    "                                              batch_size=batch_size,\n",
    "                                              shuffle=True)\n",
    "# Training data\n",
    "testing_loader = torch.utils.data.DataLoader(dataset=testing_data,\n",
    "                                             batch_size=batch_size)\n",
    "\n",
    "# Data Iterators\n",
    "data_iter = iter(training_loader)\n",
    "images, labels = next(data_iter)\n",
    "print('images:', images.shape)\n",
    "print('labels:', labels.shape)"
   ]
  },
  {
   "cell_type": "code",
   "execution_count": 30,
   "metadata": {
    "collapsed": true
   },
   "outputs": [],
   "source": [
    "import numpy as np\n",
    "\n",
    "# One hot encoding function\n",
    "def one_hot_encode(pre_labels, n_classes):\n",
    "    labels = []\n",
    "\n",
    "    for num in range(len(pre_labels)):\n",
    "        # idx <- class: 0, 1, 2\n",
    "        idx = pre_labels[num]\n",
    "        # Array of Zeros\n",
    "        arr = np.zeros(n_classes)\n",
    "        # One hot encode array by class index\n",
    "        arr[idx] = 1\n",
    "        # Add array to labels (list)\n",
    "        labels.append(arr)\n",
    "\n",
    "    labels = np.array(labels, dtype=int)\n",
    "\n",
    "    return labels\n",
    "\n",
    "# SOFTMAX\n",
    "def softmax(X):\n",
    "    '''\n",
    "    X: output of last fc layer, dim = [num_examples, num_classes]\n",
    "    output: \n",
    "    '''\n",
    "    exps = torch.exp(X - torch.max(X))\n",
    "    return exps / exps.sum()"
   ]
  },
  {
   "cell_type": "markdown",
   "metadata": {},
   "source": [
    "## Training"
   ]
  },
  {
   "cell_type": "code",
   "execution_count": 107,
   "metadata": {},
   "outputs": [],
   "source": [
    "dtype = torch.float\n",
    "\n",
    "device = torch.device('cuda' if torch.cuda.is_available() else 'cpu')\n",
    "\n",
    "'''\n",
    "N: batch size; \n",
    "D_in: input dimension;\n",
    "H_1, H_2: hidden dimensions; \n",
    "D_out: output dimension.\n",
    "'''\n",
    "\n",
    "N = 64\n",
    "D_in = 28*28\n",
    "H_1 = 500\n",
    "H_2 = 200\n",
    "D_out = 10\n",
    "\n",
    "# Hyperparamters\n",
    "learning_rate = 1e-6\n",
    "num_steps = 5000\n",
    "\n",
    "# Tracking losses\n",
    "loss_list = []\n",
    "\n",
    "def train():\n",
    "    # Randomly initialize weights\n",
    "    w1 = torch.randn(D_in, H_1, device=device, dtype=dtype)\n",
    "    w2 = torch.randn(H_1, H_2, device=device, dtype=dtype)\n",
    "    w3 = torch.randn(H_2, D_out, device=device, dtype=dtype)\n",
    "\n",
    "    # Data Iter (fresh)\n",
    "    data_iter = iter(training_loader)\n",
    "    iter_per_epoch = len(training_loader) # 938\n",
    "\n",
    "    for t in range(num_steps):\n",
    "\n",
    "        # Reset the data_iter\n",
    "        if (t + 1) % iter_per_epoch == 0:\n",
    "            data_iter = iter(training_loader)\n",
    "\n",
    "        # Grab images and labels\n",
    "        images, labels = next(data_iter)\n",
    "        x, labels = images.view(images.size(0), -1).to(device), labels.to(device)\n",
    "        # One hot encode labels and convert to tensor \n",
    "        onehot = one_hot_encode(pre_labels=labels, n_classes=10)\n",
    "        y = torch.as_tensor(torch.from_numpy(onehot), device=device, dtype=dtype)\n",
    "\n",
    "        # Forward pass: compute predicted y\n",
    "        h1 = x.mm(w1)\n",
    "        h1_relu = h1.clamp(min=0)\n",
    "\n",
    "        h2 = h1_relu.mm(w2)\n",
    "        h2_relu = h2.clamp(min=0)\n",
    "\n",
    "        h3 = h2_relu.mm(w3)\n",
    "\n",
    "        y_pred = torch.stack([softmax(_) for _ in h3])\n",
    "\n",
    "        # Compute and print loss\n",
    "        loss = (y_pred - y).pow(2).sum().item()\n",
    "\n",
    "        # Backprop to compute gradients of w1, w2, and w3 with respect to loss\n",
    "        grad_y_pred = 2.0 * (y_pred - y)\n",
    "\n",
    "        grad_softmax = y_pred * (1 - y_pred)\n",
    "\n",
    "        grad_w3 = h2_relu.t().mm(grad_softmax)\n",
    "        grad_h2_relu = grad_y_pred.mm(w3.t())\n",
    "        grad_h2 = grad_h2_relu.clone()\n",
    "        grad_h2[h2 < 0] = 0\n",
    "\n",
    "        \n",
    "        grad_w2 = h1_relu.t().mm(grad_h2)\n",
    "        grad_h_relu = grad_h2.mm(w2.t())\n",
    "        grad_h = grad_h_relu.clone()\n",
    "        grad_h[h1 < 0] = 0\n",
    "        grad_w1 = x.t().mm(grad_h)\n",
    "        \n",
    "        #print('h_relu', h_relu.shape)\n",
    "        #print('gh2:', grad_h2.shape)\n",
    "        #print('g3', grad_w3.shape)\n",
    "        #print('w3', w3.shape)\n",
    "        #print('g2', grad_w2.shape)\n",
    "        #print('w2', w2.shape)\n",
    "        #print('g1', grad_w1.shape)\n",
    "        #print('w1', w1.shape)\n",
    "\n",
    "        # Update weights using gradient descent\n",
    "        w1 -= learning_rate * grad_w1\n",
    "        w2 -= learning_rate * grad_w2\n",
    "        w3 -= learning_rate * grad_w3\n",
    "\n",
    "\n",
    "        if t < 10 or (t + 1) % 1000 == 0:\n",
    "            print(f'Step [{t+1}/{num_steps}], Loss: {loss:.4}')\n",
    "            \n",
    "        loss_list.append(loss)"
   ]
  },
  {
   "cell_type": "markdown",
   "metadata": {},
   "source": [
    "## Prediction"
   ]
  },
  {
   "cell_type": "code",
   "execution_count": 101,
   "metadata": {},
   "outputs": [],
   "source": [
    "def test():\n",
    "    \n",
    "    correct = 0\n",
    "    loss = 0\n",
    "    total = 0\n",
    "\n",
    "    test_iter = iter(testing_loader)\n",
    "\n",
    "    images, labels = next(test_iter)\n",
    "\n",
    "    for images, labels in test_iter:\n",
    "        # predict\n",
    "\n",
    "        # Grab images and labels\n",
    "        x, labels = images.view(images.size(0), -1).to(device), labels.to(device)\n",
    "        onehot = one_hot_encode(pre_labels=labels, n_classes=10)\n",
    "        y = torch.as_tensor(torch.from_numpy(onehot), device=device, dtype=dtype)\n",
    "\n",
    "        # Forward pass: compute predicted y\n",
    "        h1 = x.mm(w1)\n",
    "        h1_relu = h1.clamp(min=0)\n",
    "\n",
    "        h2 = h1_relu.mm(w2)\n",
    "        h2_relu = h2.clamp(min=0)\n",
    "\n",
    "        h3 = h2_relu.mm(w3)\n",
    "\n",
    "        y_pred = torch.stack([softmax(_) for _ in h3])\n",
    "\n",
    "        correct += (labels == torch.max(y_pred, 1)[1]).sum().item()\n",
    "        loss += (y_pred - y).pow(2).sum().item()\n",
    "        total += len(labels)\n",
    "\n",
    "    print(f'Acc: {correct/total:.2} Loss: {loss/total:.4}')"
   ]
  },
  {
   "cell_type": "code",
   "execution_count": 108,
   "metadata": {},
   "outputs": [
    {
     "name": "stdout",
     "output_type": "stream",
     "text": [
      "Step [1/5000], Loss: 112.0\n",
      "Step [2/5000], Loss: 122.0\n",
      "Step [3/5000], Loss: 118.0\n",
      "Step [4/5000], Loss: 118.0\n",
      "Step [5/5000], Loss: 116.0\n",
      "Step [6/5000], Loss: 110.0\n",
      "Step [7/5000], Loss: 108.0\n",
      "Step [8/5000], Loss: 107.8\n",
      "Step [9/5000], Loss: 115.7\n",
      "Step [10/5000], Loss: 103.9\n",
      "Step [1000/5000], Loss: 32.0\n",
      "Step [2000/5000], Loss: 20.02\n",
      "Step [3000/5000], Loss: 32.0\n",
      "Step [4000/5000], Loss: 14.0\n",
      "Step [5000/5000], Loss: 40.0\n"
     ]
    }
   ],
   "source": [
    "train()"
   ]
  },
  {
   "cell_type": "code",
   "execution_count": 109,
   "metadata": {},
   "outputs": [
    {
     "name": "stdout",
     "output_type": "stream",
     "text": [
      "Acc: 0.84 Loss: 0.3201\n"
     ]
    }
   ],
   "source": [
    "test()"
   ]
  },
  {
   "cell_type": "code",
   "execution_count": 115,
   "metadata": {},
   "outputs": [
    {
     "data": {
      "image/png": "[encoded data removed]",
      "text/plain": [
       "<Figure size 720x432 with 1 Axes>"
      ]
     },
     "metadata": {},
     "output_type": "display_data"
    }
   ],
   "source": [
    "%matplotlib inline\n",
    "import matplotlib.pyplot as plt\n",
    "import pandas as pd\n",
    "\n",
    "mavg_loss = pd.DataFrame({'loss': loss_list}).rolling(500).std()\n",
    "\n",
    "plt.figure(figsize=(10, 6))\n",
    "plt.plot(mavg_loss);"
   ]
  },
  {
   "cell_type": "code",
   "execution_count": null,
   "metadata": {
    "collapsed": true
   },
   "outputs": [],
   "source": []
  }
 ],
 "metadata": {
  "kernelspec": {
   "display_name": "Python 3",
   "language": "python",
   "name": "python3"
  },
  "language_info": {
   "codemirror_mode": {
    "name": "ipython",
    "version": 3
   },
   "file_extension": ".py",
   "mimetype": "text/x-python",
   "name": "python",
   "nbconvert_exporter": "python",
   "pygments_lexer": "ipython3",
   "version": "3.6.3"
  }
 },
 "nbformat": 4,
 "nbformat_minor": 2
}
