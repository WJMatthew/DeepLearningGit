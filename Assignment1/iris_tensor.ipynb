{
 "cells": [
  {
   "cell_type": "markdown",
   "metadata": {},
   "source": [
    "# IRIS- Tensor\n",
    "## Matthew Johnson, Feb 15, 2019\n",
    "\n",
    "- MSE, ReLU: 0.83"
   ]
  },
  {
   "cell_type": "code",
   "execution_count": 1,
   "metadata": {},
   "outputs": [],
   "source": [
    "import os\n",
    "import torch\n",
    "import torchvision\n",
    "from torchvision import transforms\n",
    "from my_classes import IrisDataset\n",
    "\n",
    "# Data type for tensors\n",
    "dtype = torch.float\n",
    "\n",
    "# Device configuration\n",
    "device = torch.device('cuda' if torch.cuda.is_available() else 'cpu')"
   ]
  },
  {
   "cell_type": "code",
   "execution_count": 6,
   "metadata": {},
   "outputs": [],
   "source": [
    "#dataset = IrisDataset(transform=trans)"
   ]
  },
  {
   "cell_type": "code",
   "execution_count": 2,
   "metadata": {},
   "outputs": [],
   "source": [
    "from sklearn.datasets import load_iris\n",
    "from sklearn.model_selection import train_test_split\n",
    "from sklearn.preprocessing import StandardScaler\n",
    "import my_classes as mc\n",
    "\n",
    "##################\n",
    "# IMPORTING DATA #\n",
    "##################\n",
    "\n",
    "iris_data = load_iris()\n",
    "features, pre_labels = iris_data.data, iris_data.target\n",
    "\n",
    "labels = mc.one_hot_encode(pre_labels, 3)\n",
    "\n",
    "feature_train, feature_test, labels_train, labels_test = train_test_split(features, labels, random_state = 17)\n",
    "\n",
    "# Load the standard scaler\n",
    "sc = StandardScaler()\n",
    "\n",
    "# Compute the mean and standard deviation based on the training data\n",
    "sc.fit(feature_train)\n",
    "\n",
    "# Scale the training data to be of mean 0 and of unit variance\n",
    "feature_train = sc.transform(feature_train)\n",
    "\n",
    "# Scale the test data to be of mean 0 and of unit variance\n",
    "feature_test = sc.transform(feature_test)\n"
   ]
  },
  {
   "cell_type": "code",
   "execution_count": 3,
   "metadata": {},
   "outputs": [
    {
     "name": "stdout",
     "output_type": "stream",
     "text": [
      "torch.Size([14, 4])\n",
      "torch.Size([14, 3])\n"
     ]
    }
   ],
   "source": [
    "import torch.utils.data as data_utils\n",
    "\n",
    "batch_size = 14\n",
    "\n",
    "# Training\n",
    "train = data_utils.TensorDataset(torch.from_numpy(feature_train).float().to(device), \n",
    "                                 torch.from_numpy(labels_train).float().to(device))\n",
    "train_loader = data_utils.DataLoader(train, batch_size=batch_size, shuffle=True)\n",
    "data_iter = iter(train_loader)\n",
    "feats, labels = next(data_iter)\n",
    "\n",
    "# Testing\n",
    "test = data_utils.TensorDataset(torch.from_numpy(feature_test).float().to(device), \n",
    "                                 torch.from_numpy(labels_test).float().to(device))\n",
    "test_loader = data_utils.DataLoader(test, batch_size=batch_size, shuffle=True)\n",
    "test_iter = iter(test_loader)\n",
    "\n",
    "print(feats.shape)\n",
    "print(labels.shape)"
   ]
  },
  {
   "cell_type": "code",
   "execution_count": null,
   "metadata": {},
   "outputs": [],
   "source": []
  },
  {
   "cell_type": "code",
   "execution_count": 4,
   "metadata": {
    "collapsed": true
   },
   "outputs": [],
   "source": [
    "import numpy as np\n",
    "\n",
    "# One hot encoding function\n",
    "def one_hot_encode(pre_labels, n_classes):\n",
    "    labels = []\n",
    "\n",
    "    for num in range(len(pre_labels)):\n",
    "        # idx <- class: 0, 1, 2\n",
    "        idx = pre_labels[num]\n",
    "        # Array of Zeros\n",
    "        arr = np.zeros(n_classes)\n",
    "        # One hot encode array by class index\n",
    "        arr[idx] = 1\n",
    "        # Add array to labels (list)\n",
    "        labels.append(arr)\n",
    "\n",
    "    labels = np.array(labels, dtype=int)\n",
    "\n",
    "    return labels\n",
    "\n",
    "# SOFTMAX\n",
    "def softmax(X):\n",
    "    '''\n",
    "    X: output of last fc layer, dim = [num_examples, num_classes]\n",
    "    output: \n",
    "    '''\n",
    "    exps = torch.exp(X - torch.max(X))\n",
    "    return exps / exps.sum()"
   ]
  },
  {
   "cell_type": "markdown",
   "metadata": {},
   "source": [
    "## Training"
   ]
  },
  {
   "cell_type": "code",
   "execution_count": 12,
   "metadata": {},
   "outputs": [],
   "source": [
    "\n",
    "'''\n",
    "N: batch size; \n",
    "D_in: input dimension;\n",
    "H_1, H_2: hidden dimensions; \n",
    "D_out: output dimension.\n",
    "'''\n",
    "\n",
    "N = batch_size # 64\n",
    "D_in = 4\n",
    "H_1 = 7\n",
    "#H_2 = 3\n",
    "D_out = 3\n",
    "\n",
    "# Hyperparamters\n",
    "learning_rate = 0.001\n",
    "num_steps = 5000\n",
    "\n",
    "# Tracking losses\n",
    "loss_list = []\n",
    "weights = {}\n",
    "\n",
    "def train():\n",
    "    # Randomly initialize weights\n",
    "    w1 = torch.randn(D_in, H_1, device=device, dtype=dtype)\n",
    "    w2 = torch.randn(H_1, D_out, device=device, dtype=dtype)\n",
    "\n",
    "    # Data Iter (fresh)\n",
    "    data_iter = iter(train_loader)\n",
    "    iter_per_epoch = len(train_loader) # \n",
    "\n",
    "    for t in range(num_steps):\n",
    "\n",
    "        # Reset the data_iter\n",
    "        if (t + 1) % iter_per_epoch == 0:\n",
    "            data_iter = iter(train_loader)\n",
    "\n",
    "        # Grab feats and labels\n",
    "        x, y = next(data_iter)\n",
    "\n",
    "        # Forward pass: compute predicted y\n",
    "        h1 = x.mm(w1)\n",
    "        h1_relu = h1.clamp(min=0)\n",
    "        h2 = h1_relu.mm(w2)\n",
    "        \n",
    "        #y_pred = torch.stack([softmax(_) for _ in h2])\n",
    "        y_pred = h2\n",
    "\n",
    "        # Compute and print loss\n",
    "        loss = (y_pred - y).pow(2).sum().item()\n",
    "        \n",
    "        # Backprop to compute gradients of w1, w2, and w3 with respect to loss\n",
    "        grad_y_pred = 2.0 * (y_pred - y)\n",
    "\n",
    "        grad_w2 = h1_relu.t().mm(grad_y_pred)\n",
    "        \n",
    "        grad_h_relu = grad_y_pred.mm(w2.t())\n",
    "        grad_h = grad_h_relu.clone()\n",
    "        grad_h[h1 < 0] = 0\n",
    "        \n",
    "        grad_w1 = x.t().mm(grad_h)\n",
    "        \n",
    "        # Update weights using gradient descent\n",
    "        w1 -= learning_rate * grad_w1\n",
    "        w2 -= learning_rate * grad_w2\n",
    "\n",
    "        if t < 10 or (t + 1) % 1000 == 0:\n",
    "            print(f'Step [{t+1}/{num_steps}], Loss: {loss:.4}')\n",
    "            \n",
    "        loss_list.append(loss)\n",
    "        \n",
    "    weights['w1'] = w1\n",
    "    weights['w2'] = w2"
   ]
  },
  {
   "cell_type": "code",
   "execution_count": null,
   "metadata": {
    "collapsed": true
   },
   "outputs": [],
   "source": []
  },
  {
   "cell_type": "markdown",
   "metadata": {},
   "source": [
    "## Prediction"
   ]
  },
  {
   "cell_type": "code",
   "execution_count": 6,
   "metadata": {
    "collapsed": true
   },
   "outputs": [],
   "source": [
    "def test():\n",
    "    \n",
    "    w1 = weights['w1']\n",
    "    w2 = weights['w2']\n",
    "    \n",
    "    correct = 0\n",
    "    loss = 0\n",
    "    total = 0\n",
    "\n",
    "    test_iter = iter(test_loader)\n",
    "\n",
    "    feats, labels = next(test_iter)\n",
    "\n",
    "    for images, labels in test_iter:\n",
    "\n",
    "        # Grab images and labels\n",
    "        #x, y = next(data_iter)\n",
    "        x = images\n",
    "        y = labels\n",
    "\n",
    "        # Forward pass: compute predicted y\n",
    "        h1 = x.mm(w1)\n",
    "        h1_relu = h1.clamp(min=0)\n",
    "\n",
    "        h2 = h1_relu.mm(w2)\n",
    "\n",
    "        y_pred = torch.stack([softmax(_) for _ in h2])\n",
    "\n",
    "        correct += (torch.max(labels, 1)[1] == torch.max(y_pred, 1)[1]).sum().item()\n",
    "        loss += (y_pred - y).pow(2).sum().item()\n",
    "        total += len(labels)\n",
    "\n",
    "    print(f'Acc: {correct/total:.2} Loss: {loss/total:.4}')"
   ]
  },
  {
   "cell_type": "code",
   "execution_count": 13,
   "metadata": {},
   "outputs": [
    {
     "name": "stdout",
     "output_type": "stream",
     "text": [
      "Step [1/5000], Loss: 347.2\n",
      "Step [2/5000], Loss: 153.7\n",
      "Step [3/5000], Loss: 144.9\n",
      "Step [4/5000], Loss: 75.32\n",
      "Step [5/5000], Loss: 127.2\n",
      "Step [6/5000], Loss: 138.9\n",
      "Step [7/5000], Loss: 59.68\n",
      "Step [8/5000], Loss: 42.76\n",
      "Step [9/5000], Loss: 56.29\n",
      "Step [10/5000], Loss: 58.98\n",
      "Step [1000/5000], Loss: 3.1\n",
      "Step [2000/5000], Loss: 1.377\n",
      "Step [3000/5000], Loss: 4.157\n",
      "Step [4000/5000], Loss: 2.917\n",
      "Step [5000/5000], Loss: 3.607\n"
     ]
    }
   ],
   "source": [
    "train()"
   ]
  },
  {
   "cell_type": "code",
   "execution_count": 14,
   "metadata": {},
   "outputs": [
    {
     "name": "stdout",
     "output_type": "stream",
     "text": [
      "Acc: 0.83 Loss: 0.419\n"
     ]
    }
   ],
   "source": [
    "test()"
   ]
  },
  {
   "cell_type": "code",
   "execution_count": 15,
   "metadata": {},
   "outputs": [
    {
     "data": {
      "image/png": "[encoded data removed]",
      "text/plain": [
       "<Figure size 720x432 with 1 Axes>"
      ]
     },
     "metadata": {},
     "output_type": "display_data"
    }
   ],
   "source": [
    "%matplotlib inline\n",
    "import matplotlib.pyplot as plt\n",
    "import pandas as pd\n",
    "\n",
    "mavg_loss = pd.DataFrame({'loss': loss_list}).rolling(500).mean()\n",
    "\n",
    "plt.figure(figsize=(10, 6))\n",
    "plt.plot(mavg_loss);"
   ]
  },
  {
   "cell_type": "code",
   "execution_count": null,
   "metadata": {
    "collapsed": true
   },
   "outputs": [],
   "source": []
  }
 ],
 "metadata": {
  "kernelspec": {
   "display_name": "Python 3",
   "language": "python",
   "name": "python3"
  },
  "language_info": {
   "codemirror_mode": {
    "name": "ipython",
    "version": 3
   },
   "file_extension": ".py",
   "mimetype": "text/x-python",
   "name": "python",
   "nbconvert_exporter": "python",
   "pygments_lexer": "ipython3",
   "version": "3.6.3"
  }
 },
 "nbformat": 4,
 "nbformat_minor": 2
}
