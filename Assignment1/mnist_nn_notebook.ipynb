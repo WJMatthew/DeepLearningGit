{
 "cells": [
  {
   "cell_type": "markdown",
   "metadata": {},
   "source": [
    "# MNIST - pytorch.nn\n",
    "### MJ, Feb 15, 2019"
   ]
  },
  {
   "cell_type": "code",
   "execution_count": 2,
   "metadata": {},
   "outputs": [
    {
     "name": "stdout",
     "output_type": "stream",
     "text": [
      "The autoreload extension is already loaded. To reload it, use:\n",
      "  %reload_ext autoreload\n"
     ]
    }
   ],
   "source": [
    "%load_ext autoreload\n",
    "%autoreload 2"
   ]
  },
  {
   "cell_type": "code",
   "execution_count": 1,
   "metadata": {},
   "outputs": [
    {
     "name": "stdout",
     "output_type": "stream",
     "text": [
      "Step [100/5000], Loss: 1.646, Acc: 0.84\n",
      "Step [200/5000], Loss: 1.596, Acc: 0.88\n",
      "Step [300/5000], Loss: 1.6, Acc: 0.87\n",
      "Step [400/5000], Loss: 1.581, Acc: 0.87\n",
      "Step [500/5000], Loss: 1.563, Acc: 0.9\n",
      "Step [600/5000], Loss: 1.57, Acc: 0.89\n",
      "Step [700/5000], Loss: 1.541, Acc: 0.93\n",
      "Step [800/5000], Loss: 1.516, Acc: 0.95\n",
      "Step [900/5000], Loss: 1.578, Acc: 0.88\n",
      "Step [1000/5000], Loss: 1.523, Acc: 0.95\n",
      "Step [1100/5000], Loss: 1.517, Acc: 0.95\n",
      "Step [1200/5000], Loss: 1.479, Acc: 0.98\n",
      "Step [1300/5000], Loss: 1.534, Acc: 0.93\n",
      "Step [1400/5000], Loss: 1.598, Acc: 0.87\n",
      "Step [1500/5000], Loss: 1.494, Acc: 0.97\n",
      "Step [1600/5000], Loss: 1.548, Acc: 0.92\n",
      "Step [1700/5000], Loss: 1.504, Acc: 0.95\n",
      "Step [1800/5000], Loss: 1.54, Acc: 0.92\n",
      "Step [1900/5000], Loss: 1.479, Acc: 0.99\n",
      "Step [2000/5000], Loss: 1.512, Acc: 0.95\n",
      "Step [2100/5000], Loss: 1.497, Acc: 0.97\n",
      "Step [2200/5000], Loss: 1.504, Acc: 0.96\n",
      "Step [2300/5000], Loss: 1.535, Acc: 0.93\n",
      "Step [2400/5000], Loss: 1.509, Acc: 0.95\n",
      "Step [2500/5000], Loss: 1.493, Acc: 0.97\n",
      "Step [2600/5000], Loss: 1.497, Acc: 0.96\n",
      "Step [2700/5000], Loss: 1.519, Acc: 0.94\n",
      "Step [2800/5000], Loss: 1.507, Acc: 0.95\n",
      "Step [2900/5000], Loss: 1.469, Acc: 1.0\n",
      "Step [3000/5000], Loss: 1.485, Acc: 0.97\n",
      "Step [3100/5000], Loss: 1.504, Acc: 0.96\n",
      "Step [3200/5000], Loss: 1.5, Acc: 0.96\n",
      "Step [3300/5000], Loss: 1.492, Acc: 0.98\n",
      "Step [3400/5000], Loss: 1.485, Acc: 0.98\n",
      "Step [3500/5000], Loss: 1.521, Acc: 0.94\n",
      "Step [3600/5000], Loss: 1.474, Acc: 0.99\n",
      "Step [3700/5000], Loss: 1.495, Acc: 0.96\n",
      "Step [3800/5000], Loss: 1.495, Acc: 0.97\n",
      "Step [3900/5000], Loss: 1.527, Acc: 0.93\n",
      "Step [4000/5000], Loss: 1.494, Acc: 0.96\n",
      "Step [4100/5000], Loss: 1.473, Acc: 0.99\n",
      "Step [4200/5000], Loss: 1.513, Acc: 0.95\n",
      "Step [4300/5000], Loss: 1.511, Acc: 0.95\n",
      "Step [4400/5000], Loss: 1.479, Acc: 0.98\n",
      "Step [4500/5000], Loss: 1.515, Acc: 0.95\n",
      "Step [4600/5000], Loss: 1.52, Acc: 0.94\n",
      "Step [4700/5000], Loss: 1.489, Acc: 0.97\n",
      "Step [4800/5000], Loss: 1.493, Acc: 0.97\n",
      "Step [4900/5000], Loss: 1.482, Acc: 0.98\n",
      "Step [5000/5000], Loss: 1.5, Acc: 0.96\n",
      "torch.Size([100, 10])\n",
      "Loss: 1.471, Acc: 0.99\n"
     ]
    }
   ],
   "source": [
    "%load_ext autoreload\n",
    "%autoreload 2\n",
    "\n",
    "import nn_MNIST"
   ]
  },
  {
   "cell_type": "code",
   "execution_count": null,
   "metadata": {
    "collapsed": true
   },
   "outputs": [],
   "source": []
  },
  {
   "cell_type": "code",
   "execution_count": 4,
   "metadata": {},
   "outputs": [
    {
     "data": {
      "image/png": "[encoded data removed]",
      "text/plain": [
       "<Figure size 720x432 with 1 Axes>"
      ]
     },
     "metadata": {},
     "output_type": "display_data"
    }
   ],
   "source": [
    "%matplotlib inline\n",
    "import matplotlib.pyplot as plt\n",
    "import pandas as pd\n",
    "\n",
    "mavg_loss = pd.DataFrame({'loss': nn_MNIST.loss_list}).rolling(500).mean()\n",
    "\n",
    "plt.figure(figsize=(10, 6))\n",
    "plt.plot(mavg_loss);"
   ]
  },
  {
   "cell_type": "code",
   "execution_count": null,
   "metadata": {
    "collapsed": true
   },
   "outputs": [],
   "source": []
  }
 ],
 "metadata": {
  "kernelspec": {
   "display_name": "Python 3",
   "language": "python",
   "name": "python3"
  },
  "language_info": {
   "codemirror_mode": {
    "name": "ipython",
    "version": 3
   },
   "file_extension": ".py",
   "mimetype": "text/x-python",
   "name": "python",
   "nbconvert_exporter": "python",
   "pygments_lexer": "ipython3",
   "version": "3.6.3"
  }
 },
 "nbformat": 4,
 "nbformat_minor": 2
}
