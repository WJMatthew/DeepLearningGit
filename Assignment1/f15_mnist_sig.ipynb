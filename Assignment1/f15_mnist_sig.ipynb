{
 "cells": [
  {
   "cell_type": "markdown",
   "metadata": {},
   "source": [
    "# MNIST - pytorch.nn\n",
    "### MJ, Feb 15, 2019\n",
    "\n",
    "- Sigmoid\n",
    "- Acc: 0.48"
   ]
  },
  {
   "cell_type": "code",
   "execution_count": 1,
   "metadata": {},
   "outputs": [],
   "source": [
    "%load_ext autoreload\n",
    "%autoreload 2"
   ]
  },
  {
   "cell_type": "code",
   "execution_count": 2,
   "metadata": {},
   "outputs": [
    {
     "name": "stdout",
     "output_type": "stream",
     "text": [
      "Step [100/5000], Loss: 2.303, Acc: 0.078\n",
      "Step [200/5000], Loss: 2.301, Acc: 0.094\n",
      "Step [300/5000], Loss: 2.3, Acc: 0.16\n",
      "Step [400/5000], Loss: 2.299, Acc: 0.12\n",
      "Step [500/5000], Loss: 2.303, Acc: 0.047\n",
      "Step [600/5000], Loss: 2.299, Acc: 0.23\n",
      "Step [700/5000], Loss: 2.299, Acc: 0.094\n",
      "Step [800/5000], Loss: 2.303, Acc: 0.047\n",
      "Step [900/5000], Loss: 2.298, Acc: 0.078\n",
      "Step [1000/5000], Loss: 2.297, Acc: 0.094\n",
      "Step [1100/5000], Loss: 2.287, Acc: 0.14\n",
      "Step [1200/5000], Loss: 2.289, Acc: 0.14\n",
      "Step [1300/5000], Loss: 2.282, Acc: 0.17\n",
      "Step [1400/5000], Loss: 2.261, Acc: 0.23\n",
      "Step [1500/5000], Loss: 2.285, Acc: 0.14\n",
      "Step [1600/5000], Loss: 2.261, Acc: 0.27\n",
      "Step [1700/5000], Loss: 2.248, Acc: 0.27\n",
      "Step [1800/5000], Loss: 2.263, Acc: 0.2\n",
      "Step [1900/5000], Loss: 2.252, Acc: 0.22\n",
      "Step [2000/5000], Loss: 2.287, Acc: 0.14\n",
      "Step [2100/5000], Loss: 2.266, Acc: 0.16\n",
      "Step [2200/5000], Loss: 2.178, Acc: 0.34\n",
      "Step [2300/5000], Loss: 2.211, Acc: 0.28\n",
      "Step [2400/5000], Loss: 2.221, Acc: 0.27\n",
      "Step [2500/5000], Loss: 2.212, Acc: 0.28\n",
      "Step [2600/5000], Loss: 2.217, Acc: 0.27\n",
      "Step [2700/5000], Loss: 2.179, Acc: 0.34\n",
      "Step [2800/5000], Loss: 2.148, Acc: 0.36\n",
      "Step [2900/5000], Loss: 2.162, Acc: 0.33\n",
      "Step [3000/5000], Loss: 2.158, Acc: 0.3\n",
      "Step [3100/5000], Loss: 2.183, Acc: 0.27\n",
      "Step [3200/5000], Loss: 2.231, Acc: 0.19\n",
      "Step [3300/5000], Loss: 2.199, Acc: 0.22\n",
      "Step [3400/5000], Loss: 2.177, Acc: 0.27\n",
      "Step [3500/5000], Loss: 2.201, Acc: 0.22\n",
      "Step [3600/5000], Loss: 2.072, Acc: 0.42\n",
      "Step [3700/5000], Loss: 2.13, Acc: 0.33\n",
      "Step [3800/5000], Loss: 2.169, Acc: 0.28\n",
      "Step [3900/5000], Loss: 2.116, Acc: 0.34\n",
      "Step [4000/5000], Loss: 2.027, Acc: 0.44\n",
      "Step [4100/5000], Loss: 2.139, Acc: 0.31\n",
      "Step [4200/5000], Loss: 2.15, Acc: 0.33\n",
      "Step [4300/5000], Loss: 2.055, Acc: 0.47\n",
      "Step [4400/5000], Loss: 2.07, Acc: 0.47\n",
      "Step [4500/5000], Loss: 2.109, Acc: 0.39\n",
      "Step [4600/5000], Loss: 2.073, Acc: 0.45\n",
      "Step [4700/5000], Loss: 2.1, Acc: 0.44\n",
      "Step [4800/5000], Loss: 2.099, Acc: 0.44\n",
      "Step [4900/5000], Loss: 2.033, Acc: 0.55\n",
      "Step [5000/5000], Loss: 2.008, Acc: 0.52\n",
      "torch.Size([64, 10])\n",
      "Loss: 2.043, Acc: 0.48\n"
     ]
    }
   ],
   "source": [
    "import nn_MNIST_sig"
   ]
  },
  {
   "cell_type": "code",
   "execution_count": 5,
   "metadata": {},
   "outputs": [
    {
     "data": {
      "image/png": "[encoded data removed]",
      "text/plain": [
       "<Figure size 720x432 with 1 Axes>"
      ]
     },
     "metadata": {},
     "output_type": "display_data"
    }
   ],
   "source": [
    "%matplotlib inline\n",
    "import matplotlib.pyplot as plt\n",
    "import pandas as pd\n",
    "\n",
    "mavg_loss = pd.DataFrame({'loss': nn_MNIST_sig.loss_list}).rolling(500).mean()\n",
    "\n",
    "plt.figure(figsize=(10, 6))\n",
    "plt.plot(mavg_loss);"
   ]
  },
  {
   "cell_type": "code",
   "execution_count": null,
   "metadata": {
    "collapsed": true
   },
   "outputs": [],
   "source": []
  }
 ],
 "metadata": {
  "kernelspec": {
   "display_name": "Python 3",
   "language": "python",
   "name": "python3"
  },
  "language_info": {
   "codemirror_mode": {
    "name": "ipython",
    "version": 3
   },
   "file_extension": ".py",
   "mimetype": "text/x-python",
   "name": "python",
   "nbconvert_exporter": "python",
   "pygments_lexer": "ipython3",
   "version": "3.6.3"
  }
 },
 "nbformat": 4,
 "nbformat_minor": 2
}
