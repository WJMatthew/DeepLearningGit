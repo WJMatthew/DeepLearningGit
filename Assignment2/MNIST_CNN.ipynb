{
 "cells": [
  {
   "cell_type": "markdown",
   "metadata": {},
   "source": [
    "# MNIST CNN\n",
    "### M. Johnson, Mar. 2, 2019"
   ]
  },
  {
   "cell_type": "markdown",
   "metadata": {},
   "source": [
    "## Imports and Data Loading"
   ]
  },
  {
   "cell_type": "code",
   "execution_count": 4,
   "metadata": {},
   "outputs": [],
   "source": [
    "import os\n",
    "import torch\n",
    "import torch.nn as nn\n",
    "import torchvision\n",
    "from torchvision import transforms\n",
    "import torch.nn.functional as F\n",
    "\n",
    "root = './data'\n",
    "\n",
    "if not os.path.exists(root):\n",
    "    os.mkdir(root)\n",
    "\n",
    "# Device configuration\n",
    "device = torch.device('cuda' if torch.cuda.is_available() else 'cpu')\n",
    "\n",
    "# MNIST Dataset\n",
    "# Transforms - Normalizing data and converting it to Tensor form\n",
    "trans = transforms.Compose([transforms.ToTensor(), transforms.Normalize((0.5,), (0.5,))])\n",
    "\n",
    "# Training Data\n",
    "training_data = torchvision.datasets.MNIST(root=root,\n",
    "                                           train=True,\n",
    "                                           transform=trans,\n",
    "                                           download=True)\n",
    "# Testing Data\n",
    "testing_data = torchvision.datasets.MNIST(root=root,\n",
    "                                          train=False,\n",
    "                                          transform=trans,\n",
    "                                          download=True)\n",
    "\n",
    "# Data Loader\n",
    "batch_size = 100\n",
    "\n",
    "# Training data\n",
    "training_loader = torch.utils.data.DataLoader(dataset=training_data,\n",
    "                                              batch_size=batch_size,\n",
    "                                              shuffle=True)"
   ]
  },
  {
   "cell_type": "code",
   "execution_count": 5,
   "metadata": {},
   "outputs": [],
   "source": [
    "from torch.utils.data.sampler import SubsetRandomSampler\n",
    "import numpy as np\n",
    "\n",
    "validation_indices = []\n",
    "\n",
    "def get_testing_and_validation_loaders(dataset, batch_size = 100, validation_split = .15):\n",
    "    \n",
    "    shuffle_dataset = True\n",
    "    random_seed = 7\n",
    "\n",
    "    # Creating data indices for training and validation splits:\n",
    "    dataset_size = len(dataset)\n",
    "    indices = list(range(dataset_size))\n",
    "    split = int(np.floor(validation_split * dataset_size))\n",
    "\n",
    "    if shuffle_dataset :\n",
    "        np.random.seed(random_seed)\n",
    "        np.random.shuffle(indices)\n",
    "        \n",
    "    train_indices, val_indices = indices[split:], indices[:split]\n",
    "\n",
    "    # Creating PT data samplers and loaders:\n",
    "    train_sampler = SubsetRandomSampler(train_indices)\n",
    "    valid_sampler = SubsetRandomSampler(val_indices)\n",
    "\n",
    "    train_loader = torch.utils.data.DataLoader(dataset, batch_size=batch_size, \n",
    "                                               sampler=train_sampler)\n",
    "    validation_loader = torch.utils.data.DataLoader(dataset, batch_size=batch_size,\n",
    "                                                    sampler=valid_sampler)\n",
    "    #\n",
    "    validation_indices.append(val_indices)\n",
    "    \n",
    "    return train_loader, validation_loader       "
   ]
  },
  {
   "cell_type": "code",
   "execution_count": 6,
   "metadata": {},
   "outputs": [],
   "source": [
    "testing_loader, validation_loader = get_testing_and_validation_loaders(testing_data)"
   ]
  },
  {
   "cell_type": "code",
   "execution_count": 25,
   "metadata": {},
   "outputs": [
    {
     "name": "stdout",
     "output_type": "stream",
     "text": [
      "training loader: 600 batches of 100 samples.\n",
      "validation loader: 15 batches of 100 samples.\n",
      "testing loader: 85 batches of 100 samples.\n"
     ]
    }
   ],
   "source": [
    "for name, loader in zip(['training', 'validation', 'testing'],\n",
    "             [training_loader, validation_loader, testing_loader]):\n",
    "    print(f'{name} loader: {len(loader)} batches of {batch_size} samples.')"
   ]
  },
  {
   "cell_type": "markdown",
   "metadata": {
    "collapsed": true
   },
   "source": [
    "## Model Architecture"
   ]
  },
  {
   "cell_type": "code",
   "execution_count": 7,
   "metadata": {},
   "outputs": [],
   "source": [
    "# MnistConvNet\n",
    "class MnistConvNet(nn.Module):\n",
    "    def __init__(self):\n",
    "        super(MnistConvNet, self).__init__()\n",
    "        \n",
    "        self.conv1 = nn.Conv2d(1, 16, kernel_size=5)\n",
    "        self.conv2 = nn.Conv2d(16, 32, kernel_size=5)\n",
    "        \n",
    "        self.fc1 = nn.Linear(32*4*4, 500)\n",
    "        self.fc2 = nn.Linear(500, 10)\n",
    "\n",
    "    def forward(self, x):\n",
    "        x = F.relu(F.max_pool2d(self.conv1(x), 2))\n",
    "        x = F.relu(F.max_pool2d(self.conv2(x), 2))\n",
    "\n",
    "        x = x.view(-1, 32*4*4)\n",
    "        \n",
    "        x = F.relu(self.fc1(x))\n",
    "        x = self.fc2(x)\n",
    "        return F.log_softmax(x, dim=1)\n",
    "\n",
    "    def name(self):\n",
    "        return \"mnist_gpu_m2\""
   ]
  },
  {
   "cell_type": "markdown",
   "metadata": {},
   "source": [
    "## Model Training"
   ]
  },
  {
   "cell_type": "code",
   "execution_count": 8,
   "metadata": {},
   "outputs": [
    {
     "name": "stdout",
     "output_type": "stream",
     "text": [
      "Epoch [1/10], Loss: 0.05793, Acc: 0.98\n",
      "Epoch [2/10], Loss: 0.04044, Acc: 0.99\n",
      "Epoch [3/10], Loss: 0.03801, Acc: 0.99\n",
      "Epoch [4/10], Loss: 0.06104, Acc: 0.98\n",
      "Epoch [5/10], Loss: 0.02666, Acc: 0.99\n",
      "Epoch [6/10], Loss: 0.0326, Acc: 0.99\n",
      "Epoch [7/10], Loss: 0.02983, Acc: 0.99\n",
      "Epoch [8/10], Loss: 0.04419, Acc: 0.99\n",
      "Epoch [9/10], Loss: 0.03967, Acc: 0.99\n",
      "Epoch [10/10], Loss: 0.03071, Acc: 0.99\n"
     ]
    }
   ],
   "source": [
    "# HPs\n",
    "lr = 0.001 # 0.001 too small\n",
    "momentum = 0.9\n",
    "\n",
    "# Model\n",
    "model = MnistConvNet().to(device)\n",
    "\n",
    "# Loss and optimizer\n",
    "criterion = nn.CrossEntropyLoss()\n",
    "optimizer = torch.optim.Adam(model.parameters(), lr=lr)\n",
    "#optimizer = torch.optim.SGD(model.parameters(), lr = lr, momentum=momentum)\n",
    "\n",
    "loss_list = []\n",
    "acc_list = []\n",
    "train_losses = []\n",
    "train_accuracies = []\n",
    "train_losses2 = []\n",
    "#\n",
    "num_epochs = 10\n",
    "for epoch in range(num_epochs):\n",
    "    \n",
    "    \n",
    "    # Train:   \n",
    "    total = 0\n",
    "    correct = 0\n",
    "    trainlosses = []\n",
    "    \n",
    "    for batch_index, (images, labels) in enumerate(training_loader):\n",
    "        # Send to GPU (device)\n",
    "        images, labels = images.to(device), labels.to(device)\n",
    "        \n",
    "        # Forward pass\n",
    "        outputs = model(images.float())\n",
    "        \n",
    "        # Loss\n",
    "        loss = criterion(outputs, labels)\n",
    "\n",
    "        # Backward and optimize\n",
    "        optimizer.zero_grad()\n",
    "        loss.backward()\n",
    "        optimizer.step()\n",
    "        \n",
    "        trainlosses.append(loss.item())\n",
    "        \n",
    "        # Compute accuracy\n",
    "        _, argmax = torch.max(outputs, 1)\n",
    "        correct += (labels == argmax).sum().item() #.mean()\n",
    "        total += len(labels)\n",
    "        \n",
    "    train_losses.append( np.mean(trainlosses) )\n",
    "    train_accuracies.append( correct/total )\n",
    "    train_losses2.extend(trainlosses)\n",
    "                        \n",
    "    with torch.no_grad():\n",
    "        \n",
    "        losses = []\n",
    "        total = 0\n",
    "        correct = 0\n",
    "    \n",
    "        for images, labels in validation_loader:\n",
    "            # \n",
    "            images, labels = images.to(device), labels.to(device)\n",
    "            \n",
    "            # Forward pass\n",
    "            outputs = model(images.float())\n",
    "            \n",
    "            loss = criterion(outputs, labels)\n",
    "        \n",
    "            # Compute accuracy\n",
    "            _, argmax = torch.max(outputs, 1)\n",
    "            correct += (labels == argmax).sum().item() #.mean()\n",
    "            total += len(labels)\n",
    "            \n",
    "            losses.append(loss.item())\n",
    "    \n",
    "        acc = np.round(correct/total, 3)\n",
    "        loss = np.mean(losses)\n",
    "        \n",
    "        acc_list.append(acc)\n",
    "        loss_list.append(loss)\n",
    "          \n",
    "        print(f'Epoch [{epoch+1}/{num_epochs}], Loss: {np.mean(losses):.4}, Acc: {correct/total:.2}')"
   ]
  },
  {
   "cell_type": "markdown",
   "metadata": {},
   "source": [
    "## Model Evaluation"
   ]
  },
  {
   "cell_type": "code",
   "execution_count": 9,
   "metadata": {},
   "outputs": [
    {
     "name": "stdout",
     "output_type": "stream",
     "text": [
      "Loss: 0.03168, Acc: 0.99\n"
     ]
    }
   ],
   "source": [
    "# Saving the model\n",
    "torch.save(model.state_dict(), model.name())\n",
    "\n",
    "# Test\n",
    "model.eval()\n",
    "\n",
    "total = 0\n",
    "correct = 0\n",
    "testlosses = []\n",
    "correct_labels = []\n",
    "predictions = []\n",
    "\n",
    "with torch.no_grad():\n",
    "    \n",
    "    for batch_index, (images, labels) in enumerate(testing_loader):\n",
    "        # Send to GPU (device)\n",
    "        images, labels = images.to(device), labels.to(device)\n",
    "        \n",
    "        # Forward pass\n",
    "        outputs = model(images.float())\n",
    "        \n",
    "        # Loss\n",
    "        loss = criterion(outputs, labels)\n",
    "        \n",
    "        testlosses.append(loss.item())\n",
    "        \n",
    "        # Compute accuracy\n",
    "        _, argmax = torch.max(outputs, 1)\n",
    "        correct += (labels == argmax).sum().item() #.mean()\n",
    "        total += len(labels)\n",
    "        \n",
    "        correct_labels.extend(labels)\n",
    "        predictions.extend(argmax)\n",
    "        \n",
    "\n",
    "test_loss = np.mean(testlosses)\n",
    "accuracy = np.round(correct/total, 2)\n",
    "print(f'Loss: {test_loss:.4}, Acc: {accuracy:.2}')"
   ]
  },
  {
   "cell_type": "markdown",
   "metadata": {
    "collapsed": true
   },
   "source": [
    "### Confusion Matrix"
   ]
  },
  {
   "cell_type": "code",
   "execution_count": 28,
   "metadata": {},
   "outputs": [
    {
     "data": {
      "text/plain": [
       "array([[835,   0,   0,   0,   0,   0,   0,   1,   0,   0],\n",
       "       [  0, 956,   0,   0,   0,   1,   3,   2,   1,   0],\n",
       "       [  1,   1, 889,   1,   0,   0,   0,   3,   0,   0],\n",
       "       [  1,   1,   0, 852,   0,   3,   0,   1,   2,   0],\n",
       "       [  0,   0,   0,   0, 813,   0,   3,   0,   0,   9],\n",
       "       [  1,   0,   0,   2,   0, 756,   2,   0,   1,   1],\n",
       "       [  2,   0,   2,   0,   1,   1, 794,   0,   0,   0],\n",
       "       [  0,   1,   5,   0,   0,   0,   0, 875,   0,   0],\n",
       "       [  1,   0,   1,   0,   0,   0,   1,   0, 814,   3],\n",
       "       [  1,   0,   0,   0,   1,   4,   0,   1,   1, 849]])"
      ]
     },
     "execution_count": 28,
     "metadata": {},
     "output_type": "execute_result"
    }
   ],
   "source": [
    "from sklearn.metrics import confusion_matrix\n",
    "\n",
    "y_true = [label.item() for label in correct_labels]\n",
    "y_pred = [label.item() for label in predictions]\n",
    "\n",
    "cm = confusion_matrix(y_true, y_pred)\n",
    "\n",
    "cm"
   ]
  },
  {
   "cell_type": "code",
   "execution_count": 22,
   "metadata": {},
   "outputs": [
    {
     "data": {
      "image/png": "[encoded data removed]",
      "text/plain": [
       "<Figure size 864x576 with 2 Axes>"
      ]
     },
     "metadata": {
      "needs_background": "light"
     },
     "output_type": "display_data"
    }
   ],
   "source": [
    "%matplotlib inline\n",
    "import matplotlib.pyplot as plt\n",
    "import seaborn as sns\n",
    "\n",
    "plt.subplots(figsize=(12,8));\n",
    "sns.heatmap(cm, annot=True, fmt='g');"
   ]
  },
  {
   "cell_type": "markdown",
   "metadata": {},
   "source": [
    "## Classification Report\n",
    "- Precision, Recall, etc."
   ]
  },
  {
   "cell_type": "code",
   "execution_count": 29,
   "metadata": {},
   "outputs": [
    {
     "name": "stdout",
     "output_type": "stream",
     "text": [
      "              precision    recall  f1-score   support\n",
      "\n",
      "           0       0.99      1.00      1.00       836\n",
      "           1       1.00      0.99      0.99       963\n",
      "           2       0.99      0.99      0.99       895\n",
      "           3       1.00      0.99      0.99       860\n",
      "           4       1.00      0.99      0.99       825\n",
      "           5       0.99      0.99      0.99       763\n",
      "           6       0.99      0.99      0.99       800\n",
      "           7       0.99      0.99      0.99       881\n",
      "           8       0.99      0.99      0.99       820\n",
      "           9       0.98      0.99      0.99       857\n",
      "\n",
      "   micro avg       0.99      0.99      0.99      8500\n",
      "   macro avg       0.99      0.99      0.99      8500\n",
      "weighted avg       0.99      0.99      0.99      8500\n",
      "\n"
     ]
    }
   ],
   "source": [
    "from sklearn.metrics import classification_report\n",
    "\n",
    "target_names = [str(i) for i in range(10)]\n",
    "print(classification_report(y_true, y_pred, target_names=target_names))"
   ]
  },
  {
   "cell_type": "markdown",
   "metadata": {},
   "source": [
    "### Loss visualization"
   ]
  },
  {
   "cell_type": "code",
   "execution_count": 30,
   "metadata": {},
   "outputs": [
    {
     "data": {
      "image/png": "[encoded data removed]",
      "text/plain": [
       "<Figure size 1080x360 with 1 Axes>"
      ]
     },
     "metadata": {
      "needs_background": "light"
     },
     "output_type": "display_data"
    }
   ],
   "source": [
    "loader_len = len(training_loader)\n",
    "x_vals= [loader_len*i for i in range(num_epochs)]\n",
    "y_vals = loss_list\n",
    "\n",
    "plt.subplots(figsize=(15,5))\n",
    "plt.plot(train_losses2, color='xkcd:blue');\n",
    "plt.scatter(x=x_vals, y=loss_list, color='red'); # validation losses\n",
    "#plt.scatter(x=x_vals, y=acc_list, color='xkcd:green') # accs\n",
    "plt.title('Training and Validation loss over number of batches model has seen');\n",
    "plt.xlabel('Number of training batches seen');\n",
    "plt.ylabel('Cross Entropy Loss');\n",
    "plt.legend(['Train Loss', 'Validation Loss'], loc='upper right');"
   ]
  },
  {
   "cell_type": "code",
   "execution_count": null,
   "metadata": {},
   "outputs": [],
   "source": []
  }
 ],
 "metadata": {
  "kernelspec": {
   "display_name": "py_36_env",
   "language": "python",
   "name": "py_36_env"
  },
  "language_info": {
   "codemirror_mode": {
    "name": "ipython",
    "version": 3
   },
   "file_extension": ".py",
   "mimetype": "text/x-python",
   "name": "python",
   "nbconvert_exporter": "python",
   "pygments_lexer": "ipython3",
   "version": "3.6.8"
  }
 },
 "nbformat": 4,
 "nbformat_minor": 2
}
